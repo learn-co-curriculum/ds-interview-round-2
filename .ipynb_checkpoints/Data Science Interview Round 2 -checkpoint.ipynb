{
 "cells": [
  {
   "cell_type": "markdown",
   "metadata": {},
   "source": [
    "# Jupyter notebooks"
   ]
  },
  {
   "cell_type": "markdown",
   "metadata": {},
   "source": [
    "You can type text or code! These blocks execute things."
   ]
  },
  {
   "cell_type": "code",
   "execution_count": 31,
   "metadata": {},
   "outputs": [
    {
     "name": "stdout",
     "output_type": "stream",
     "text": [
      "It Worked!\n"
     ]
    }
   ],
   "source": [
    "# Press SHIFT + ENTER to run this cell!\n",
    "\n",
    "print(\"It Worked!\")"
   ]
  },
  {
   "cell_type": "markdown",
   "metadata": {},
   "source": [
    "## Introduction to data structures"
   ]
  },
  {
   "cell_type": "markdown",
   "metadata": {},
   "source": [
    "We want to figure out where we want to go for dinner tonight. And we are craving hamburgers :)."
   ]
  },
  {
   "cell_type": "markdown",
   "metadata": {},
   "source": [
    "This leads us to a first data structure: a string\n",
    "\n",
    "In the cell below, create and print a string called `\"mcdonalds\"`"
   ]
  },
  {
   "cell_type": "code",
   "execution_count": 32,
   "metadata": {},
   "outputs": [
    {
     "name": "stdout",
     "output_type": "stream",
     "text": [
      "Mcdonalds\n"
     ]
    }
   ],
   "source": [
    "restaurant_1 = 'mcdonalds'\n",
    "print(restaurant)"
   ]
  },
  {
   "cell_type": "markdown",
   "metadata": {},
   "source": [
    "Use the `capitalize()` method to capitalize the contents of our `restaurant` variable.  Print the variable again to see our changes!"
   ]
  },
  {
   "cell_type": "code",
   "execution_count": 15,
   "metadata": {},
   "outputs": [
    {
     "name": "stdout",
     "output_type": "stream",
     "text": [
      "Mcdonalds\n"
     ]
    }
   ],
   "source": [
    "restaurant_1 = restaurant_1.capitalize()\n",
    "print(restaurant)"
   ]
  },
  {
   "cell_type": "markdown",
   "metadata": {},
   "source": [
    "### 1. Lists"
   ]
  },
  {
   "cell_type": "markdown",
   "metadata": {},
   "source": [
    "We want to collect our data. A list is an ordered collection. You can use square brackets to create a list. You can use\n",
    "- the original strings\n",
    "- the stored variables"
   ]
  },
  {
   "cell_type": "code",
   "execution_count": 19,
   "metadata": {},
   "outputs": [],
   "source": [
    "restaurant_2 = \"Burger King\"\n",
    "restaurants = ['Mcdonalds', 'Burger King']\n",
    "same_restaurants = [restaurant_1, restaurant_2]"
   ]
  },
  {
   "cell_type": "markdown",
   "metadata": {},
   "source": [
    "Note that these two are exactly the same! You can test for this:"
   ]
  },
  {
   "cell_type": "code",
   "execution_count": 21,
   "metadata": {},
   "outputs": [
    {
     "data": {
      "text/plain": [
       "True"
      ]
     },
     "execution_count": 21,
     "metadata": {},
     "output_type": "execute_result"
    }
   ],
   "source": [
    "restaurants == same_restaurants"
   ]
  },
  {
   "cell_type": "markdown",
   "metadata": {},
   "source": [
    "What if we want to access information inside `restaurants` or `same_restaurants`?"
   ]
  },
  {
   "cell_type": "markdown",
   "metadata": {},
   "source": [
    "What if you want to add a burger restaurant to your list? Append `'Shake Shack'` to `restaurants`"
   ]
  },
  {
   "cell_type": "code",
   "execution_count": 22,
   "metadata": {},
   "outputs": [
    {
     "name": "stdout",
     "output_type": "stream",
     "text": [
      "['Mcdonalds', 'Burger King', 'Shake Shack']\n"
     ]
    }
   ],
   "source": [
    "restaurants.append(\"Shake Shack\")\n",
    "print(restaurants)"
   ]
  },
  {
   "cell_type": "markdown",
   "metadata": {},
   "source": [
    "### 2. Dictionaries"
   ]
  },
  {
   "cell_type": "markdown",
   "metadata": {},
   "source": [
    "Maybe we want to save attributes for our restaurants? Lists are not very useful here."
   ]
  },
  {
   "cell_type": "code",
   "execution_count": 1,
   "metadata": {},
   "outputs": [],
   "source": [
    "mcdonalds = {'name':'mcdonalds', 'address': \"85 broad street\"}"
   ]
  },
  {
   "cell_type": "markdown",
   "metadata": {},
   "source": [
    "Why not a list? Dictionaries have `keys` and `values`. "
   ]
  },
  {
   "cell_type": "code",
   "execution_count": 2,
   "metadata": {},
   "outputs": [
    {
     "data": {
      "text/plain": [
       "dict_keys(['name', 'address'])"
      ]
     },
     "execution_count": 2,
     "metadata": {},
     "output_type": "execute_result"
    }
   ],
   "source": [
    "mcdonalds.keys()"
   ]
  },
  {
   "cell_type": "code",
   "execution_count": 3,
   "metadata": {},
   "outputs": [
    {
     "data": {
      "text/plain": [
       "dict_values(['mcdonalds', '85 broad street'])"
      ]
     },
     "execution_count": 3,
     "metadata": {},
     "output_type": "execute_result"
    }
   ],
   "source": [
    "mcdonalds.values()"
   ]
  },
  {
   "cell_type": "markdown",
   "metadata": {},
   "source": [
    "You can wrap this into a list"
   ]
  },
  {
   "cell_type": "code",
   "execution_count": 4,
   "metadata": {},
   "outputs": [
    {
     "data": {
      "text/plain": [
       "['mcdonalds', '85 broad street']"
      ]
     },
     "execution_count": 4,
     "metadata": {},
     "output_type": "execute_result"
    }
   ],
   "source": [
    "list(mcdonalds.values())"
   ]
  },
  {
   "cell_type": "markdown",
   "metadata": {},
   "source": [
    "Create two more restaurant dictionaries for the following restaurants:\n",
    "\n",
    "|  Restaurant |    Address    |\n",
    "|:-----------:|:-------------:|\n",
    "| Burger King | 1313 Broadway |\n",
    "| Shake Shack |   691 8th Ave |"
   ]
  },
  {
   "cell_type": "code",
   "execution_count": 5,
   "metadata": {},
   "outputs": [],
   "source": [
    "burger_king = {'name': 'Burger King', 'address': '1313 broadway'}\n",
    "shake_shack = {'name': 'Shake Shack', 'address': '691 8th Ave'}"
   ]
  },
  {
   "cell_type": "markdown",
   "metadata": {},
   "source": [
    "Now use the correct key to access the address for Shake Shack:"
   ]
  },
  {
   "cell_type": "code",
   "execution_count": 6,
   "metadata": {},
   "outputs": [
    {
     "data": {
      "text/plain": [
       "'691 8th Ave'"
      ]
     },
     "execution_count": 6,
     "metadata": {},
     "output_type": "execute_result"
    }
   ],
   "source": [
    "shake_shack['address']"
   ]
  },
  {
   "cell_type": "markdown",
   "metadata": {},
   "source": [
    "Now, we'll set up for the final programming challenge of this lesson.  \n",
    "\n",
    "First, create a list containing the restaurant dictionaries we made above."
   ]
  },
  {
   "cell_type": "code",
   "execution_count": 7,
   "metadata": {},
   "outputs": [],
   "source": [
    "list_of_dictionaries = [mcdonalds, burger_king, shake_shack]"
   ]
  },
  {
   "cell_type": "markdown",
   "metadata": {},
   "source": [
    "### Challenge\n",
    "\n",
    "In the cell below, iterate through our list of dictionaries, and print out \"{Restuarant Name} is located at {Resturant Address}!\" for each restaurant. \n",
    "\n",
    "Your output should be:\n",
    "\n",
    "`\"mcdonalds is located at 85 broad street!\"`   \n",
    "`\"Burger King is located at 1313 broadway!\"`   \n",
    "`\"Shake Shack is located at 691 8th Ave!\"`   "
   ]
  },
  {
   "cell_type": "code",
   "execution_count": 8,
   "metadata": {},
   "outputs": [
    {
     "name": "stdout",
     "output_type": "stream",
     "text": [
      "mcdonalds is located at 85 broad street!\n",
      "Burger King is located at 1313 broadway!\n",
      "Shake Shack is located at 691 8th Ave!\n"
     ]
    }
   ],
   "source": [
    "for i in list_of_dictionaries:\n",
    "    print(i['name'] + ' is located at ' + i['address'] + '!')"
   ]
  },
  {
   "cell_type": "markdown",
   "metadata": {},
   "source": [
    "# extra question"
   ]
  },
  {
   "cell_type": "markdown",
   "metadata": {},
   "source": [
    "Add new key value pair to each of the restaurants and change your for loop so it incorporates the rating "
   ]
  },
  {
   "cell_type": "code",
   "execution_count": 24,
   "metadata": {},
   "outputs": [],
   "source": [
    "mcdonalds['rating'] = \"5 stars\"\n",
    "burger_king['rating'] = \"5 stars\"\n",
    "shake_shack['rating'] = \"3 stars\""
   ]
  },
  {
   "cell_type": "code",
   "execution_count": 25,
   "metadata": {},
   "outputs": [
    {
     "data": {
      "text/plain": [
       "{'address': '85 broad street', 'name': 'mcdonalds', 'rating': '5 stars'}"
      ]
     },
     "execution_count": 25,
     "metadata": {},
     "output_type": "execute_result"
    }
   ],
   "source": [
    "mcdonalds"
   ]
  },
  {
   "cell_type": "code",
   "execution_count": 26,
   "metadata": {},
   "outputs": [
    {
     "name": "stdout",
     "output_type": "stream",
     "text": [
      "mcdonalds is located at 85 broad street and has a rating of 5 stars!\n",
      "Burger King is located at 1313 broadway and has a rating of 5 stars!\n",
      "Shake Shack is located at 691 8th Ave and has a rating of 3 stars!\n"
     ]
    }
   ],
   "source": [
    "for i in list_of_dictionaries:\n",
    "    print(i['name'] + ' is located at ' + i['address'] + ' and has a rating of '+ i['rating']+ '!')"
   ]
  }
 ],
 "metadata": {
  "kernelspec": {
   "display_name": "Python 3",
   "language": "python",
   "name": "python3"
  },
  "language_info": {
   "codemirror_mode": {
    "name": "ipython",
    "version": 3
   },
   "file_extension": ".py",
   "mimetype": "text/x-python",
   "name": "python",
   "nbconvert_exporter": "python",
   "pygments_lexer": "ipython3",
   "version": "3.6.4"
  }
 },
 "nbformat": 4,
 "nbformat_minor": 2
}
